{
 "metadata": {
  "name": "",
  "signature": "sha256:fa8c70f84ad6b970d91ffdd31b3b00ec6e4cabeb0ceeb79b2938411ab8c0073f"
 },
 "nbformat": 3,
 "nbformat_minor": 0,
 "worksheets": [
  {
   "cells": [
    {
     "cell_type": "markdown",
     "metadata": {},
     "source": [
      "## Retrieving PubChem Compound Information\n",
      "### By Daniel Himmelstein\n",
      "### January 30, 2015\n",
      "\n",
      "Here, we take the pubchem compound identifiers for sterio drugs in SIDER 2 and find the corresponding parent compound and canonical smiles. This code is the third notebook in a project to [parse](../parse) and [analyze](../similarity) SIDER 2 data."
     ]
    },
    {
     "cell_type": "code",
     "collapsed": false,
     "input": [
      "import os\n",
      "import csv\n",
      "import collections"
     ],
     "language": "python",
     "metadata": {},
     "outputs": [],
     "prompt_number": 29
    },
    {
     "cell_type": "markdown",
     "metadata": {},
     "source": [
      "We use the *pubchempy* package to query PubChem's API within python. Information on *pubchempy* is available at the:\n",
      "\n",
      "+ [online documentation](http://pubchempy.readthedocs.org/en/latest/)\n",
      "+ [pypi -- package download](https://pypi.python.org/pypi/PubChemPy)\n",
      "+ [github](https://github.com/mcs07/PubChemPy)\n",
      "+ [pubchem PUG](https://pubchem.ncbi.nlm.nih.gov/pug/pughelp.html)"
     ]
    },
    {
     "cell_type": "code",
     "collapsed": false,
     "input": [
      "import pubchempy"
     ],
     "language": "python",
     "metadata": {},
     "outputs": [],
     "prompt_number": 2
    },
    {
     "cell_type": "code",
     "collapsed": false,
     "input": [
      "def get_pubchem_parent(cid, orphans_as_self=True):\n",
      "    \"\"\"\n",
      "    From a pubchem_cid, retreive the parent compound's cid.\n",
      "    If function is unsuccesful in retrieving a single parent,\n",
      "    `orphans_as_self = True` returns `cid` rather than None.\n",
      "    \n",
      "    According to pubmed:\n",
      "    \n",
      "    > A parent is conceptually the \"important\" part of the molecule\n",
      "    > when the molecule has more than one covalent component.\n",
      "    > Specifically, a parent component must have at least one carbon\n",
      "    > and contain at least 70% of the heavy (non-hydrogen) atoms of\n",
      "    > all the unique covalent units (ignoring stoichiometry).\n",
      "    > Note that this is a very empirical definition and is subject to change.\n",
      "\n",
      "    A parallel query can be executed using the REST PUG API:\n",
      "    http://pubchem.ncbi.nlm.nih.gov/rest/pug/compound/cid/11477084/cids/XML?cids_type=parent\n",
      "    \"\"\"\n",
      "    assert cid\n",
      "    \n",
      "    try:\n",
      "        parent_cids = pubchempy.get_cids(identifier=cid, namespace='cid', domain='compound', cids_type='parent')\n",
      "    except pubchempy.BadRequestError as e:\n",
      "        print 'Error getting parent of {}. {}'.format(cid, e)\n",
      "        return cid if orphans_as_self else None\n",
      "    try:\n",
      "        parent_cid, = parent_cids\n",
      "        return parent_cid\n",
      "    except ValueError:\n",
      "        print 'Error getting parent of {}. Parents retreived: {}'.format(cid, parent_cids)\n",
      "    return cid if orphans_as_self else None"
     ],
     "language": "python",
     "metadata": {},
     "outputs": [],
     "prompt_number": 3
    },
    {
     "cell_type": "code",
     "collapsed": false,
     "input": [
      "path = os.path.join('..', 'data', 'sider_compounds_pubchem.txt')\n",
      "with open(path) as read_file:\n",
      "    reader = csv.DictReader(read_file, fieldnames=['pubchem_cid'])\n",
      "    rows = list(reader)\n",
      "rows[:3]"
     ],
     "language": "python",
     "metadata": {},
     "outputs": [
      {
       "metadata": {},
       "output_type": "pyout",
       "prompt_number": 16,
       "text": [
        "[{'pubchem_cid': '119'}, {'pubchem_cid': '137'}, {'pubchem_cid': '143'}]"
       ]
      }
     ],
     "prompt_number": 16
    },
    {
     "cell_type": "code",
     "collapsed": false,
     "input": [
      "for row in rows:\n",
      "    cid = row['pubchem_cid']\n",
      "    parent_cid = get_pubchem_parent(cid)\n",
      "    cid_props, cid_parent_props = pubchempy.get_properties(\n",
      "        properties=['canonical_smiles'], identifier=[cid, parent_cid], namespace='cid')\n",
      "    row['canonical_smiles'] = cid_props['CanonicalSMILES']\n",
      "    row['pubchem_cid_parent'] = parent_cid\n",
      "    row['canonical_smiles_parent'] = cid_parent_props['CanonicalSMILES']\n",
      "rows[:3]"
     ],
     "language": "python",
     "metadata": {},
     "outputs": [
      {
       "output_type": "stream",
       "stream": "stdout",
       "text": [
        "Error getting parent of 271. Parents retreived: []\n",
        "Error getting parent of 312. Parents retreived: []"
       ]
      },
      {
       "output_type": "stream",
       "stream": "stdout",
       "text": [
        "\n",
        "Error getting parent of 402. Parents retreived: []"
       ]
      },
      {
       "output_type": "stream",
       "stream": "stdout",
       "text": [
        "\n",
        "Error getting parent of 784. Parents retreived: []"
       ]
      },
      {
       "output_type": "stream",
       "stream": "stdout",
       "text": [
        "\n",
        "Error getting parent of 807. Parents retreived: []"
       ]
      },
      {
       "output_type": "stream",
       "stream": "stdout",
       "text": [
        "\n",
        "Error getting parent of 888. Parents retreived: []"
       ]
      },
      {
       "output_type": "stream",
       "stream": "stdout",
       "text": [
        "\n",
        "Error getting parent of 947. Parents retreived: []"
       ]
      },
      {
       "output_type": "stream",
       "stream": "stdout",
       "text": [
        "\n",
        "Error getting parent of 948. Parents retreived: []"
       ]
      },
      {
       "output_type": "stream",
       "stream": "stdout",
       "text": [
        "\n",
        "Error getting parent of 977. Parents retreived: []"
       ]
      },
      {
       "output_type": "stream",
       "stream": "stdout",
       "text": [
        "\n",
        "Error getting parent of 2770. Parents retreived: []"
       ]
      },
      {
       "output_type": "stream",
       "stream": "stdout",
       "text": [
        "\n",
        "Error getting parent of 3161. Parents retreived: []"
       ]
      },
      {
       "output_type": "stream",
       "stream": "stdout",
       "text": [
        "\n",
        "Error getting parent of 5238. Parents retreived: []"
       ]
      },
      {
       "output_type": "stream",
       "stream": "stdout",
       "text": [
        "\n",
        "Error getting parent of 5785. Parents retreived: []"
       ]
      },
      {
       "output_type": "stream",
       "stream": "stdout",
       "text": [
        "\n",
        "Error getting parent of 5825. Parents retreived: []"
       ]
      },
      {
       "output_type": "stream",
       "stream": "stdout",
       "text": [
        "\n",
        "Error getting parent of 6691. Parents retreived: []"
       ]
      },
      {
       "output_type": "stream",
       "stream": "stdout",
       "text": [
        "\n",
        "Error getting parent of 9052. Parents retreived: []"
       ]
      },
      {
       "output_type": "stream",
       "stream": "stdout",
       "text": [
        "\n",
        "Error getting parent of 14791. Parents retreived: []"
       ]
      },
      {
       "output_type": "stream",
       "stream": "stdout",
       "text": [
        "\n",
        "Error getting parent of 14888. Parents retreived: []"
       ]
      },
      {
       "output_type": "stream",
       "stream": "stdout",
       "text": [
        "\n",
        "Error getting parent of 20585. Parents retreived: []"
       ]
      },
      {
       "output_type": "stream",
       "stream": "stdout",
       "text": [
        "\n",
        "Error getting parent of 23954. Parents retreived: []"
       ]
      },
      {
       "output_type": "stream",
       "stream": "stdout",
       "text": [
        "\n",
        "Error getting parent of 23987. Parents retreived: []"
       ]
      },
      {
       "output_type": "stream",
       "stream": "stdout",
       "text": [
        "\n",
        "Error getting parent of 24393. Parents retreived: []"
       ]
      },
      {
       "output_type": "stream",
       "stream": "stdout",
       "text": [
        "\n",
        "Error getting parent of 24843. Parents retreived: []"
       ]
      },
      {
       "output_type": "stream",
       "stream": "stdout",
       "text": [
        "\n",
        "Error getting parent of 25959. Parents retreived: []"
       ]
      },
      {
       "output_type": "stream",
       "stream": "stdout",
       "text": [
        "\n",
        "Error getting parent of 26924. Parents retreived: []"
       ]
      },
      {
       "output_type": "stream",
       "stream": "stdout",
       "text": [
        "\n",
        "Error getting parent of 28486. Parents retreived: []"
       ]
      },
      {
       "output_type": "stream",
       "stream": "stdout",
       "text": [
        "\n",
        "Error getting parent of 43805. Parents retreived: []"
       ]
      },
      {
       "output_type": "stream",
       "stream": "stdout",
       "text": [
        "\n",
        "Error getting parent of 65027. Parents retreived: []"
       ]
      },
      {
       "output_type": "stream",
       "stream": "stdout",
       "text": [
        "\n",
        "Error getting parent of 66376. Parents retreived: []"
       ]
      },
      {
       "output_type": "stream",
       "stream": "stdout",
       "text": [
        "\n",
        "Error getting parent of 71368. Parents retreived: []"
       ]
      },
      {
       "output_type": "stream",
       "stream": "stdout",
       "text": [
        "\n",
        "Error getting parent of 145068. Parents retreived: []"
       ]
      },
      {
       "output_type": "stream",
       "stream": "stdout",
       "text": [
        "\n",
        "Error getting parent of 160051. Parents retreived: []"
       ]
      },
      {
       "output_type": "stream",
       "stream": "stdout",
       "text": [
        "\n",
        "Error getting parent of 4517618. Parents retreived: []"
       ]
      },
      {
       "output_type": "stream",
       "stream": "stdout",
       "text": [
        "\n",
        "Error getting parent of 5280452. Parents retreived: []"
       ]
      },
      {
       "output_type": "stream",
       "stream": "stdout",
       "text": [
        "\n",
        "Error getting parent of 5280962. Parents retreived: []"
       ]
      },
      {
       "output_type": "stream",
       "stream": "stdout",
       "text": [
        "\n",
        "Error getting parent of 5280972. Parents retreived: []"
       ]
      },
      {
       "output_type": "stream",
       "stream": "stdout",
       "text": [
        "\n",
        "Error getting parent of 5281008. Parents retreived: []"
       ]
      },
      {
       "output_type": "stream",
       "stream": "stdout",
       "text": [
        "\n",
        "Error getting parent of 5281011. Parents retreived: []"
       ]
      },
      {
       "output_type": "stream",
       "stream": "stdout",
       "text": [
        "\n",
        "Error getting parent of 5281021. Parents retreived: []"
       ]
      },
      {
       "output_type": "stream",
       "stream": "stdout",
       "text": [
        "\n",
        "Error getting parent of 5281106. Parents retreived: []"
       ]
      },
      {
       "output_type": "stream",
       "stream": "stdout",
       "text": [
        "\n",
        "Error getting parent of 5282044. Parents retreived: []"
       ]
      },
      {
       "output_type": "stream",
       "stream": "stdout",
       "text": [
        "\n",
        "Error getting parent of 5360126. Parents retreived: []"
       ]
      },
      {
       "output_type": "stream",
       "stream": "stdout",
       "text": [
        "\n",
        "Error getting parent of 6326970. Parents retreived: []"
       ]
      },
      {
       "output_type": "stream",
       "stream": "stdout",
       "text": [
        "\n",
        "Error getting parent of 6474909. Parents retreived: []"
       ]
      },
      {
       "output_type": "stream",
       "stream": "stdout",
       "text": [
        "\n",
        "Error getting parent of 11598201. Parents retreived: []"
       ]
      },
      {
       "output_type": "stream",
       "stream": "stdout",
       "text": [
        "\n",
        "Error getting parent of 11979316. Parents retreived: []"
       ]
      },
      {
       "output_type": "stream",
       "stream": "stdout",
       "text": [
        "\n",
        "Error getting parent of 16132418. Parents retreived: []"
       ]
      },
      {
       "output_type": "stream",
       "stream": "stdout",
       "text": [
        "\n",
        "Error getting parent of 16132438. Parents retreived: []"
       ]
      },
      {
       "output_type": "stream",
       "stream": "stdout",
       "text": [
        "\n",
        "Error getting parent of 25077648. Parents retreived: []"
       ]
      },
      {
       "output_type": "stream",
       "stream": "stdout",
       "text": [
        "\n",
        "Error getting parent of 44387541. Parents retreived: []"
       ]
      },
      {
       "output_type": "stream",
       "stream": "stdout",
       "text": [
        "\n",
        "Error getting parent of 45267081. Parents retreived: []"
       ]
      },
      {
       "output_type": "stream",
       "stream": "stdout",
       "text": [
        "\n"
       ]
      },
      {
       "metadata": {},
       "output_type": "pyout",
       "prompt_number": 28,
       "text": [
        "[{'canonical_smiles': u'C(CC(=O)O)CN',\n",
        "  'canonical_smiles_parent': u'C(CC(=O)O)CN',\n",
        "  'pubchem_cid': '119',\n",
        "  'pubchem_cid_parent': 119},\n",
        " {'canonical_smiles': u'C(CC(=O)O)C(=O)CN',\n",
        "  'canonical_smiles_parent': u'C(CC(=O)O)C(=O)CN',\n",
        "  'pubchem_cid': '137',\n",
        "  'pubchem_cid_parent': 137},\n",
        " {'canonical_smiles': u'C1C(N(C2=C(N1)NC(=NC2=O)N)C=O)CNC3=CC=C(C=C3)C(=O)NC(CCC(=O)O)C(=O)O',\n",
        "  'canonical_smiles_parent': u'C1C(N(C2=C(N1)NC(=NC2=O)N)C=O)CNC3=CC=C(C=C3)C(=O)NC(CCC(=O)O)C(=O)O',\n",
        "  'pubchem_cid': '143',\n",
        "  'pubchem_cid_parent': 143}]"
       ]
      }
     ],
     "prompt_number": 28
    },
    {
     "cell_type": "code",
     "collapsed": false,
     "input": [
      "collections.Counter(str(row['pubchem_cid']) == str(row['pubchem_cid_parent']) for row in rows)"
     ],
     "language": "python",
     "metadata": {},
     "outputs": [
      {
       "metadata": {},
       "output_type": "pyout",
       "prompt_number": 31,
       "text": [
        "Counter({True: 990, False: 140})"
       ]
      }
     ],
     "prompt_number": 31
    },
    {
     "cell_type": "code",
     "collapsed": false,
     "input": [
      "path = os.path.join('..', 'data', 'compounds.txt')\n",
      "with open(path, 'w') as write_file:\n",
      "    fieldnames = ['pubchem_cid', 'pubchem_cid_parent', 'canonical_smiles', 'canonical_smiles_parent']\n",
      "    writer = csv.DictWriter(write_file, fieldnames=fieldnames, delimiter='\\t')\n",
      "    writer.writeheader()\n",
      "    writer.writerows(rows)"
     ],
     "language": "python",
     "metadata": {},
     "outputs": [],
     "prompt_number": 35
    },
    {
     "cell_type": "markdown",
     "metadata": {},
     "source": [
      "# Download\n",
      "For constructing compound networks, [compounds.txt](../data/compounds.txt) can be used as a node attributes table and [similarities.txt](../data/similarities.txt) can be used like a .sif file for edges. To exclude similarities for compound pairs where less than all three methods produce a score, use [similarities-complete.txt](../data/similarities-complete.txt)."
     ]
    }
   ],
   "metadata": {}
  }
 ]
}